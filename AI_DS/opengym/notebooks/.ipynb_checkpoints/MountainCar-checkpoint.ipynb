{
 "cells": [
  {
   "cell_type": "code",
   "execution_count": 16,
   "id": "66b37de6-eaac-485a-b529-bdfed3518045",
   "metadata": {
    "tags": []
   },
   "outputs": [],
   "source": [
    "import gym\n",
    "import numpy as np\n",
    "from IPython import display\n",
    "import matplotlib.pyplot as plt\n",
    "%matplotlib inline\n",
    "\n",
    "from keras.models import Sequential\n",
    "from keras.layers import Dense, Activation, Flatten\n",
    "from keras.optimizers import Adam\n",
    "from rl.agents.dqn import DQNAgent\n",
    "from rl.policy import EpsGreedyQPolicy\n",
    "from rl.memory import SequentialMemory"
   ]
  },
  {
   "cell_type": "markdown",
   "id": "121f9112-f28a-437f-b92e-ddc72d312596",
   "metadata": {},
   "source": [
    "## Q学習"
   ]
  },
  {
   "cell_type": "code",
   "execution_count": 2,
   "id": "c4f1f21f-2ac5-4345-bf1d-5344d4a8880a",
   "metadata": {
    "tags": []
   },
   "outputs": [],
   "source": [
    "class Q_Learning:\n",
    "    @staticmethod\n",
    "    def get_status(observation):\n",
    "        \"\"\"車の位置と速度を離散値に変換する\n",
    "        Args:\n",
    "                observation (np.array): [車の位置, 車の速度]\n",
    "        Returns:\n",
    "                int, int: 40等分に変換された車の位置と車の速度\n",
    "        \"\"\"\n",
    "        env_low = env.observation_space.low # 位置と速度の最小値\n",
    "        env_high = env.observation_space.high #　位置と速度の最大値\n",
    "        env_dx = (env_high - env_low) / 40 # 40等分\n",
    "        position = int((observation[0] - env_low[0])/env_dx[0])\n",
    "        velocity = int((observation[1] - env_low[1])/env_dx[1])\n",
    "        return position, velocity\n",
    "\n",
    "    @staticmethod\n",
    "    def update_q_table(q_table, action, observation, next_observation, reward):\n",
    "        \"\"\"Qテーブルを更新する\n",
    "        Args:\n",
    "                q_table (np.array): shape→(40,40,3)\n",
    "                action (int): 0 or 1 or 2\n",
    "                observation (np.array): 観測データ\n",
    "                next_observation(np.array): 次の観測データ\n",
    "                reward (float): 報酬\n",
    "        Returns:\n",
    "                np.array: 更新後のQテーブル\n",
    "        \"\"\"\n",
    "        # 学習率\n",
    "        alpha = 0.2\n",
    "        # 時間割引き率\n",
    "        gamma = 0.99\n",
    "\n",
    "        # 行動後の状態で得られる最大行動価値 Q(s',a')\n",
    "        next_position, next_velocity = Q_Learning.get_status(next_observation)\n",
    "        next_max_q_value = max(q_table[next_position][next_velocity])\n",
    "\n",
    "        # 行動前の状態の行動価値 Q(s,a)\n",
    "        position, velocity = Q_Learning.get_status(observation)\n",
    "        q_value = q_table[position][velocity][action]\n",
    "\n",
    "        # 行動価値関数の更新\n",
    "        q_table[position][velocity][action] = q_value + alpha * (reward + gamma * next_max_q_value - q_value)\n",
    "\n",
    "        return q_table\n",
    "\n",
    "    @staticmethod\n",
    "    def get_action(q_table, observation):\n",
    "        \"\"\"ε-グリーディ法\n",
    "        Args:\n",
    "            q_table (np.array): shape→(40,40,3)\n",
    "            observation (np.array): 観測データ\n",
    "        Returns:\n",
    "                int: 行動\n",
    "        \"\"\"\n",
    "        epsilon = 0.002\n",
    "        if np.random.uniform(0, 1) > epsilon:\n",
    "            position, velocity = get_status(observation)\n",
    "            action = np.argmax(q_table[position][velocity])\n",
    "        else:\n",
    "            action = np.random.choice([0, 1, 2])\n",
    "        return action"
   ]
  },
  {
   "cell_type": "markdown",
   "id": "9e923a23-cff6-485b-b90b-79995e08cc1c",
   "metadata": {},
   "source": [
    "## Q学習でのmain文"
   ]
  },
  {
   "cell_type": "code",
   "execution_count": null,
   "id": "a065e40d-5bdc-4be9-a02d-6218151962ce",
   "metadata": {
    "tags": []
   },
   "outputs": [],
   "source": [
    "env = gym.make('MountainCar-v0', render_mode='rgb_array')\n",
    "env.reset()\n",
    "# Qテーブルの定義\n",
    "q_table = np.zeros((40, 40, 3))\n",
    "rewards = []\n",
    "\n",
    "# 10000エピソードで学習する\n",
    "for episode in range(10000):\n",
    "    total_reward = 0\n",
    "    observation = env.reset()[0]\n",
    "    for _ in range(200):\n",
    "        # ε-グリーディ法にて行動を決定\n",
    "        action = Q_Learning.get_action(q_table, observation)\n",
    "        # 車を動かして観測結果・報酬・ゲーム終了フラグ・詳細情報を取得\n",
    "        data = env.step(action)\n",
    "        next_observation = data[0]\n",
    "        reward = data[1]\n",
    "        done = data[2]\n",
    "        info = data[3]\n",
    "        # Qテーブルの更新\n",
    "        q_table = Q_Learning.update_q_table(q_table, action, observation,\n",
    "                                next_observation, reward)\n",
    "        total_reward += reward\n",
    "\n",
    "        observation = next_observation\n",
    "\n",
    "        if done:\n",
    "            # doneがTrueの場合は1エピソード終了\n",
    "            if episode%100 == 0:\n",
    "                print(f'episode: {episode}, total_reward: {total_reward}')\n",
    "            rewards.append(total_reward)\n",
    "            break"
   ]
  },
  {
   "cell_type": "markdown",
   "id": "4970e83f-57ba-456a-8741-7d34999af8af",
   "metadata": {},
   "source": [
    "## Q学習で学習後の動作を確認"
   ]
  },
  {
   "cell_type": "code",
   "execution_count": 7,
   "id": "42465515-acbf-4656-a679-93d51f851ad9",
   "metadata": {
    "tags": []
   },
   "outputs": [
    {
     "data": {
      "image/png": "[encoded data removed]",
      "text/plain": [
       "<Figure size 640x480 with 1 Axes>"
      ]
     },
     "metadata": {},
     "output_type": "display_data"
    },
    {
     "name": "stdout",
     "output_type": "stream",
     "text": [
      "step: 187\n",
      "finish\n"
     ]
    }
   ],
   "source": [
    "env.reset()\n",
    "observation = env.reset()[0]\n",
    "for step in range(200):\n",
    "    plt.imshow(env.render())\n",
    "    display.clear_output(wait=True)\n",
    "    display.display(plt.gcf())\n",
    "    plt.clf()\n",
    "    plt.close()\n",
    "    action = Q_Learning.get_action(q_table, observation)\n",
    "    data = env.step(action)\n",
    "    next_observation = data[0]\n",
    "    done = data[2]\n",
    "    observation = next_observation\n",
    "    print(f'step: {step}')\n",
    "    \n",
    "    if done:\n",
    "        print('finish')\n",
    "        break"
   ]
  },
  {
   "cell_type": "markdown",
   "id": "1f501ec6-359b-481b-8c84-d72c5e7f91d2",
   "metadata": {},
   "source": [
    "## DQN"
   ]
  },
  {
   "cell_type": "code",
   "execution_count": 29,
   "id": "04dc57f8",
   "metadata": {
    "tags": []
   },
   "outputs": [
    {
     "name": "stderr",
     "output_type": "stream",
     "text": [
      "2023-02-23 06:55:19.894317: W tensorflow/c/c_api.cc:291] Operation '{name:'dense_91_1/kernel/Assign' id:9081 op device:{requested: '', assigned: ''} def:{{{node dense_91_1/kernel/Assign}} = AssignVariableOp[_has_manual_control_dependencies=true, dtype=DT_FLOAT, validate_shape=false](dense_91_1/kernel, dense_91_1/kernel/Initializer/stateless_random_uniform)}}' was changed by setting attribute after it was run by a session. This mutation will have no effect, and will trigger an error in the future. Either don't modify nodes after running them or create a new session.\n"
     ]
    },
    {
     "name": "stdout",
     "output_type": "stream",
     "text": [
      "Training for 50000 steps ...\n"
     ]
    },
    {
     "name": "stderr",
     "output_type": "stream",
     "text": [
      "2023-02-23 06:55:20.458258: W tensorflow/c/c_api.cc:291] Operation '{name:'activation_91/activation_91/Identity' id:8993 op device:{requested: '', assigned: ''} def:{{{node activation_91/activation_91/Identity}} = Identity[T=DT_FLOAT, _has_manual_control_dependencies=true](dense_91/BiasAdd)}}' was changed by setting attribute after it was run by a session. This mutation will have no effect, and will trigger an error in the future. Either don't modify nodes after running them or create a new session.\n",
      "2023-02-23 06:55:20.633889: W tensorflow/c/c_api.cc:291] Operation '{name:'count_71/Assign' id:9280 op device:{requested: '', assigned: ''} def:{{{node count_71/Assign}} = AssignVariableOp[_has_manual_control_dependencies=true, dtype=DT_FLOAT, validate_shape=false](count_71, count_71/Initializer/zeros)}}' was changed by setting attribute after it was run by a session. This mutation will have no effect, and will trigger an error in the future. Either don't modify nodes after running them or create a new session.\n"
     ]
    },
    {
     "ename": "ValueError",
     "evalue": "setting an array element with a sequence.",
     "output_type": "error",
     "traceback": [
      "\u001b[0;31m---------------------------------------------------------------------------\u001b[0m",
      "\u001b[0;31mTypeError\u001b[0m                                 Traceback (most recent call last)",
      "\u001b[0;31mTypeError\u001b[0m: only size-1 arrays can be converted to Python scalars",
      "\nThe above exception was the direct cause of the following exception:\n",
      "\u001b[0;31mValueError\u001b[0m                                Traceback (most recent call last)",
      "Cell \u001b[0;32mIn[29], line 24\u001b[0m\n\u001b[1;32m     19\u001b[0m dqn \u001b[38;5;241m=\u001b[39m DQNAgent(model\u001b[38;5;241m=\u001b[39mmodel, nb_actions\u001b[38;5;241m=\u001b[39mnb_actions, gamma\u001b[38;5;241m=\u001b[39m\u001b[38;5;241m0.99\u001b[39m,\n\u001b[1;32m     20\u001b[0m               memory\u001b[38;5;241m=\u001b[39mmemory, nb_steps_warmup\u001b[38;5;241m=\u001b[39m\u001b[38;5;241m10\u001b[39m,\n\u001b[1;32m     21\u001b[0m               target_model_update\u001b[38;5;241m=\u001b[39m\u001b[38;5;241m1e-2\u001b[39m, policy\u001b[38;5;241m=\u001b[39mpolicy)\n\u001b[1;32m     22\u001b[0m dqn\u001b[38;5;241m.\u001b[39mcompile(Adam(lr\u001b[38;5;241m=\u001b[39m\u001b[38;5;241m1e-3\u001b[39m), metrics\u001b[38;5;241m=\u001b[39m[\u001b[38;5;124m'\u001b[39m\u001b[38;5;124mmae\u001b[39m\u001b[38;5;124m'\u001b[39m])\n\u001b[0;32m---> 24\u001b[0m history \u001b[38;5;241m=\u001b[39m \u001b[43mdqn\u001b[49m\u001b[38;5;241;43m.\u001b[39;49m\u001b[43mfit\u001b[49m\u001b[43m(\u001b[49m\u001b[43menv\u001b[49m\u001b[43m,\u001b[49m\u001b[43m \u001b[49m\u001b[43mnb_steps\u001b[49m\u001b[38;5;241;43m=\u001b[39;49m\u001b[38;5;241;43m50000\u001b[39;49m\u001b[43m,\u001b[49m\u001b[43m \u001b[49m\u001b[43mvisualize\u001b[49m\u001b[38;5;241;43m=\u001b[39;49m\u001b[38;5;28;43;01mFalse\u001b[39;49;00m\u001b[43m,\u001b[49m\n\u001b[1;32m     25\u001b[0m \u001b[43m                  \u001b[49m\u001b[43mverbose\u001b[49m\u001b[38;5;241;43m=\u001b[39;49m\u001b[38;5;241;43m2\u001b[39;49m\u001b[43m)\u001b[49m\n",
      "File \u001b[0;32m/usr/local/lib/python3.8/site-packages/rl/core.py:168\u001b[0m, in \u001b[0;36mAgent.fit\u001b[0;34m(self, env, nb_steps, action_repetition, callbacks, verbose, visualize, nb_max_start_steps, start_step_policy, log_interval, nb_max_episode_steps)\u001b[0m\n\u001b[1;32m    165\u001b[0m callbacks\u001b[38;5;241m.\u001b[39mon_step_begin(episode_step)\n\u001b[1;32m    166\u001b[0m \u001b[38;5;66;03m# This is were all of the work happens. We first perceive and compute the action\u001b[39;00m\n\u001b[1;32m    167\u001b[0m \u001b[38;5;66;03m# (forward step) and then use the reward to improve (backward step).\u001b[39;00m\n\u001b[0;32m--> 168\u001b[0m action \u001b[38;5;241m=\u001b[39m \u001b[38;5;28;43mself\u001b[39;49m\u001b[38;5;241;43m.\u001b[39;49m\u001b[43mforward\u001b[49m\u001b[43m(\u001b[49m\u001b[43mobservation\u001b[49m\u001b[43m)\u001b[49m\n\u001b[1;32m    169\u001b[0m \u001b[38;5;28;01mif\u001b[39;00m \u001b[38;5;28mself\u001b[39m\u001b[38;5;241m.\u001b[39mprocessor \u001b[38;5;129;01mis\u001b[39;00m \u001b[38;5;129;01mnot\u001b[39;00m \u001b[38;5;28;01mNone\u001b[39;00m:\n\u001b[1;32m    170\u001b[0m     action \u001b[38;5;241m=\u001b[39m \u001b[38;5;28mself\u001b[39m\u001b[38;5;241m.\u001b[39mprocessor\u001b[38;5;241m.\u001b[39mprocess_action(action)\n",
      "File \u001b[0;32m/usr/local/lib/python3.8/site-packages/rl/agents/dqn.py:224\u001b[0m, in \u001b[0;36mDQNAgent.forward\u001b[0;34m(self, observation)\u001b[0m\n\u001b[1;32m    221\u001b[0m \u001b[38;5;28;01mdef\u001b[39;00m \u001b[38;5;21mforward\u001b[39m(\u001b[38;5;28mself\u001b[39m, observation):\n\u001b[1;32m    222\u001b[0m     \u001b[38;5;66;03m# Select an action.\u001b[39;00m\n\u001b[1;32m    223\u001b[0m     state \u001b[38;5;241m=\u001b[39m \u001b[38;5;28mself\u001b[39m\u001b[38;5;241m.\u001b[39mmemory\u001b[38;5;241m.\u001b[39mget_recent_state(observation)\n\u001b[0;32m--> 224\u001b[0m     q_values \u001b[38;5;241m=\u001b[39m \u001b[38;5;28;43mself\u001b[39;49m\u001b[38;5;241;43m.\u001b[39;49m\u001b[43mcompute_q_values\u001b[49m\u001b[43m(\u001b[49m\u001b[43mstate\u001b[49m\u001b[43m)\u001b[49m\n\u001b[1;32m    225\u001b[0m     \u001b[38;5;28;01mif\u001b[39;00m \u001b[38;5;28mself\u001b[39m\u001b[38;5;241m.\u001b[39mtraining:\n\u001b[1;32m    226\u001b[0m         action \u001b[38;5;241m=\u001b[39m \u001b[38;5;28mself\u001b[39m\u001b[38;5;241m.\u001b[39mpolicy\u001b[38;5;241m.\u001b[39mselect_action(q_values\u001b[38;5;241m=\u001b[39mq_values)\n",
      "File \u001b[0;32m/usr/local/lib/python3.8/site-packages/rl/agents/dqn.py:68\u001b[0m, in \u001b[0;36mAbstractDQNAgent.compute_q_values\u001b[0;34m(self, state)\u001b[0m\n\u001b[1;32m     67\u001b[0m \u001b[38;5;28;01mdef\u001b[39;00m \u001b[38;5;21mcompute_q_values\u001b[39m(\u001b[38;5;28mself\u001b[39m, state):\n\u001b[0;32m---> 68\u001b[0m     q_values \u001b[38;5;241m=\u001b[39m \u001b[38;5;28;43mself\u001b[39;49m\u001b[38;5;241;43m.\u001b[39;49m\u001b[43mcompute_batch_q_values\u001b[49m\u001b[43m(\u001b[49m\u001b[43m[\u001b[49m\u001b[43mstate\u001b[49m\u001b[43m]\u001b[49m\u001b[43m)\u001b[49m\u001b[38;5;241m.\u001b[39mflatten()\n\u001b[1;32m     69\u001b[0m     \u001b[38;5;28;01massert\u001b[39;00m q_values\u001b[38;5;241m.\u001b[39mshape \u001b[38;5;241m==\u001b[39m (\u001b[38;5;28mself\u001b[39m\u001b[38;5;241m.\u001b[39mnb_actions,)\n\u001b[1;32m     70\u001b[0m     \u001b[38;5;28;01mreturn\u001b[39;00m q_values\n",
      "File \u001b[0;32m/usr/local/lib/python3.8/site-packages/rl/agents/dqn.py:63\u001b[0m, in \u001b[0;36mAbstractDQNAgent.compute_batch_q_values\u001b[0;34m(self, state_batch)\u001b[0m\n\u001b[1;32m     61\u001b[0m \u001b[38;5;28;01mdef\u001b[39;00m \u001b[38;5;21mcompute_batch_q_values\u001b[39m(\u001b[38;5;28mself\u001b[39m, state_batch):\n\u001b[1;32m     62\u001b[0m     batch \u001b[38;5;241m=\u001b[39m \u001b[38;5;28mself\u001b[39m\u001b[38;5;241m.\u001b[39mprocess_state_batch(state_batch)\n\u001b[0;32m---> 63\u001b[0m     q_values \u001b[38;5;241m=\u001b[39m \u001b[38;5;28;43mself\u001b[39;49m\u001b[38;5;241;43m.\u001b[39;49m\u001b[43mmodel\u001b[49m\u001b[38;5;241;43m.\u001b[39;49m\u001b[43mpredict_on_batch\u001b[49m\u001b[43m(\u001b[49m\u001b[43mbatch\u001b[49m\u001b[43m)\u001b[49m\n\u001b[1;32m     64\u001b[0m     \u001b[38;5;28;01massert\u001b[39;00m q_values\u001b[38;5;241m.\u001b[39mshape \u001b[38;5;241m==\u001b[39m (\u001b[38;5;28mlen\u001b[39m(state_batch), \u001b[38;5;28mself\u001b[39m\u001b[38;5;241m.\u001b[39mnb_actions)\n\u001b[1;32m     65\u001b[0m     \u001b[38;5;28;01mreturn\u001b[39;00m q_values\n",
      "File \u001b[0;32m/usr/local/lib/python3.8/site-packages/keras/engine/training_v1.py:1319\u001b[0m, in \u001b[0;36mModel.predict_on_batch\u001b[0;34m(self, x)\u001b[0m\n\u001b[1;32m   1316\u001b[0m     \u001b[38;5;28;01mreturn\u001b[39;00m \u001b[38;5;28mself\u001b[39m(inputs)\n\u001b[1;32m   1318\u001b[0m \u001b[38;5;28mself\u001b[39m\u001b[38;5;241m.\u001b[39m_make_predict_function()\n\u001b[0;32m-> 1319\u001b[0m outputs \u001b[38;5;241m=\u001b[39m \u001b[38;5;28;43mself\u001b[39;49m\u001b[38;5;241;43m.\u001b[39;49m\u001b[43mpredict_function\u001b[49m\u001b[43m(\u001b[49m\u001b[43minputs\u001b[49m\u001b[43m)\u001b[49m\n\u001b[1;32m   1321\u001b[0m \u001b[38;5;28;01mif\u001b[39;00m \u001b[38;5;28mlen\u001b[39m(outputs) \u001b[38;5;241m==\u001b[39m \u001b[38;5;241m1\u001b[39m:\n\u001b[1;32m   1322\u001b[0m     \u001b[38;5;28;01mreturn\u001b[39;00m outputs[\u001b[38;5;241m0\u001b[39m]\n",
      "File \u001b[0;32m/usr/local/lib/python3.8/site-packages/keras/backend.py:4559\u001b[0m, in \u001b[0;36mGraphExecutionFunction.__call__\u001b[0;34m(self, inputs)\u001b[0m\n\u001b[1;32m   4555\u001b[0m         \u001b[38;5;66;03m# We need to do array conversion and type casting at this level,\u001b[39;00m\n\u001b[1;32m   4556\u001b[0m         \u001b[38;5;66;03m# since `callable_fn` only supports exact matches.\u001b[39;00m\n\u001b[1;32m   4557\u001b[0m         tensor_type \u001b[38;5;241m=\u001b[39m tf\u001b[38;5;241m.\u001b[39mas_dtype(tensor\u001b[38;5;241m.\u001b[39mdtype)\n\u001b[1;32m   4558\u001b[0m         array_vals\u001b[38;5;241m.\u001b[39mappend(\n\u001b[0;32m-> 4559\u001b[0m             \u001b[43mnp\u001b[49m\u001b[38;5;241;43m.\u001b[39;49m\u001b[43masarray\u001b[49m\u001b[43m(\u001b[49m\u001b[43mvalue\u001b[49m\u001b[43m,\u001b[49m\u001b[43m \u001b[49m\u001b[43mdtype\u001b[49m\u001b[38;5;241;43m=\u001b[39;49m\u001b[43mtensor_type\u001b[49m\u001b[38;5;241;43m.\u001b[39;49m\u001b[43mas_numpy_dtype\u001b[49m\u001b[43m)\u001b[49m\n\u001b[1;32m   4560\u001b[0m         )\n\u001b[1;32m   4562\u001b[0m \u001b[38;5;28;01mif\u001b[39;00m \u001b[38;5;28mself\u001b[39m\u001b[38;5;241m.\u001b[39mfeed_dict:\n\u001b[1;32m   4563\u001b[0m     \u001b[38;5;28;01mfor\u001b[39;00m key \u001b[38;5;129;01min\u001b[39;00m \u001b[38;5;28msorted\u001b[39m(\u001b[38;5;28mself\u001b[39m\u001b[38;5;241m.\u001b[39mfeed_dict\u001b[38;5;241m.\u001b[39mkeys()):\n",
      "\u001b[0;31mValueError\u001b[0m: setting an array element with a sequence."
     ]
    }
   ],
   "source": [
    "env = gym.make('MountainCar-v0')\n",
    "nb_actions = env.action_space.n\n",
    "\n",
    "model = Sequential([\n",
    "    Flatten(input_shape=(1,)+ env.observation_space.shape),\n",
    "    Dense(16),\n",
    "    Activation('relu'),\n",
    "    Dense(16),\n",
    "    Activation('relu'),\n",
    "    Dense(16),\n",
    "    Activation('relu'),\n",
    "    Dense(nb_actions),\n",
    "    Activation('linear')\n",
    "])\n",
    "\n",
    "memory = SequentialMemory(limit=50000, window_length=1)\n",
    "\n",
    "policy = EpsGreedyQPolicy(eps=0.001)\n",
    "dqn = DQNAgent(model=model, nb_actions=nb_actions, gamma=0.99,\n",
    "              memory=memory, nb_steps_warmup=10,\n",
    "              target_model_update=1e-2, policy=policy)\n",
    "dqn.compile(Adam(lr=1e-3), metrics=['mae'])\n",
    "\n",
    "history = dqn.fit(env, nb_steps=50000, visualize=False,\n",
    "                  verbose=2)"
   ]
  },
  {
   "cell_type": "code",
   "execution_count": null,
   "id": "2f14d73b-e4e5-4c69-aa29-7cd5081c7c79",
   "metadata": {
    "tags": []
   },
   "outputs": [],
   "source": [
    "dqn.test(env, nb_episodes=1, visualize=True)"
   ]
  },
  {
   "cell_type": "code",
   "execution_count": null,
   "id": "509a4f68-174e-4382-bbb7-dec39963f10d",
   "metadata": {},
   "outputs": [],
   "source": []
  }
 ],
 "metadata": {
  "kernelspec": {
   "display_name": "Python 3 (ipykernel)",
   "language": "python",
   "name": "python3"
  },
  "language_info": {
   "codemirror_mode": {
    "name": "ipython",
    "version": 3
   },
   "file_extension": ".py",
   "mimetype": "text/x-python",
   "name": "python",
   "nbconvert_exporter": "python",
   "pygments_lexer": "ipython3",
   "version": "3.8.16"
  }
 },
 "nbformat": 4,
 "nbformat_minor": 5
}
